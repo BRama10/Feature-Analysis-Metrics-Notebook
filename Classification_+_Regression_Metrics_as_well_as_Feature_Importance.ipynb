{
  "nbformat": 4,
  "nbformat_minor": 0,
  "metadata": {
    "colab": {
      "provenance": [],
      "authorship_tag": "ABX9TyOkoGohqrECN6P4FdqwuVDX",
      "include_colab_link": true
    },
    "kernelspec": {
      "name": "python3",
      "display_name": "Python 3"
    },
    "language_info": {
      "name": "python"
    }
  },
  "cells": [
    {
      "cell_type": "markdown",
      "metadata": {
        "id": "view-in-github",
        "colab_type": "text"
      },
      "source": [
        "<a href=\"https://colab.research.google.com/github/BRama10/Feature-Analysis-Metrics-Notebook/blob/main/Classification_%2B_Regression_Metrics_as_well_as_Feature_Importance.ipynb\" target=\"_parent\"><img src=\"https://colab.research.google.com/assets/colab-badge.svg\" alt=\"Open In Colab\"/></a>"
      ]
    },
    {
      "cell_type": "code",
      "execution_count": null,
      "metadata": {
        "id": "ugFS45E-8IPL"
      },
      "outputs": [],
      "source": [
        "import pandas as pd\n",
        "\n",
        "df = pd.read_csv('https://raw.githubusercontent.com/jbrownlee/Datasets/master/ionosphere.csv')\n",
        "\n",
        "def f(row):\n",
        "  if(row['g'] == 'g'):\n",
        "    return 1\n",
        "  return 0\n",
        "df['g'] = df.apply(f, axis = 1)\n",
        "\n",
        "X, y = df.iloc[:, :-1], df.iloc[:, -1]\n",
        "\n",
        "\n"
      ]
    },
    {
      "cell_type": "code",
      "source": [
        "#classification\n",
        "from numpy import mean,std\n",
        "from sklearn.metrics import accuracy_score, roc_auc_score, precision_score, f1_score, classification_report, confusion_matrix, make_scorer, mean_squared_error\n",
        "from sklearn.svm import SVC\n",
        "from sklearn.model_selection import RepeatedStratifiedKFold, cross_val_score, train_test_split\n",
        "\n",
        "clf = SVC()\n",
        "cv = RepeatedStratifiedKFold(n_splits=10, n_repeats=3, random_state=1)\n",
        "\n",
        "X_train, X_test, y_train, y_test = train_test_split(X,y)\n",
        "\n",
        "scorer = make_scorer(accuracy_score, greater_is_better=True)\n",
        "\n",
        "clf.fit(X_train,y_train)\n",
        "\n",
        "y_pred = clf.predict(X_test)\n",
        "\n",
        "m_scores = cross_val_score(clf, X, y, scoring=scorer, cv=cv, n_jobs=-1, error_score='raise')\n",
        "#print('Accuracy: %.3f (%.3f)' % (mean(m_scores), std(m_scores)))\n",
        "print(mean(m_scores))\n",
        "print(m_scores)\n",
        "\n",
        "#print(classification_report(y_test, y_pred))\n",
        "#print(accuracy_score(y_test,y_pred))"
      ],
      "metadata": {
        "colab": {
          "base_uri": "https://localhost:8080/"
        },
        "id": "Eeefo5xa8WGz",
        "outputId": "5f97d7d6-661a-4d6c-e00c-68725086999e"
      },
      "execution_count": null,
      "outputs": [
        {
          "output_type": "stream",
          "name": "stdout",
          "text": [
            "0.9371428571428572\n",
            "[0.88571429 0.91428571 0.94285714 1.         0.97142857 0.97142857\n",
            " 0.91428571 0.91428571 0.94285714 0.88571429 1.         0.97142857\n",
            " 0.94285714 0.97142857 0.88571429 0.94285714 0.97142857 0.82857143\n",
            " 0.94285714 0.91428571 0.97142857 0.94285714 0.94285714 0.97142857\n",
            " 0.97142857 0.97142857 0.91428571 0.97142857 0.85714286 0.88571429]\n"
          ]
        }
      ]
    },
    {
      "cell_type": "code",
      "source": [
        "df1 = pd.read_csv('/content/sample_data/california_housing_train.csv')"
      ],
      "metadata": {
        "id": "HdMkpyKEBUct"
      },
      "execution_count": null,
      "outputs": []
    },
    {
      "cell_type": "code",
      "source": [
        "df1\n",
        "X, y = df.iloc[:, :-1], df.iloc[:,-1]"
      ],
      "metadata": {
        "id": "wTBkcM9tEquI"
      },
      "execution_count": null,
      "outputs": []
    },
    {
      "cell_type": "code",
      "source": [
        "from sklearn.svm import SVR\n",
        "from sklearn.ensemble import RandomForestRegressor\n",
        "\n",
        "cv1 = RepeatedStratifiedKFold(n_splits=10, n_repeats=3, random_state=1)\n",
        "clf1 = RandomForestRegressor()\n",
        "\n",
        "#clf1.fit(X,y)\n",
        "clf1.fit(X,y)\n",
        "scorer = make_scorer(mean_squared_error, squared = False, greater_is_better=True)\n",
        "\n",
        "m_scores = cross_val_score(clf1, X, y, scoring=scorer, cv=cv1, n_jobs=-1, error_score='raise')\n",
        "\n",
        "\n"
      ],
      "metadata": {
        "id": "Y95PmNIPErOG"
      },
      "execution_count": null,
      "outputs": []
    },
    {
      "cell_type": "code",
      "source": [],
      "metadata": {
        "id": "m0zf-OFRGl9O"
      },
      "execution_count": null,
      "outputs": []
    },
    {
      "cell_type": "code",
      "source": [
        "mean(m_scores)"
      ],
      "metadata": {
        "colab": {
          "base_uri": "https://localhost:8080/"
        },
        "id": "l3f90oSnGmKc",
        "outputId": "3f328694-769b-41f6-df77-3c71c8818cd6"
      },
      "execution_count": null,
      "outputs": [
        {
          "output_type": "execute_result",
          "data": {
            "text/plain": [
              "-0.24438599647829296"
            ]
          },
          "metadata": {},
          "execution_count": 78
        }
      ]
    },
    {
      "cell_type": "code",
      "source": [
        "clf1.feature_importances_"
      ],
      "metadata": {
        "colab": {
          "base_uri": "https://localhost:8080/"
        },
        "id": "6RMu-wBfGpaj",
        "outputId": "bf5a8e43-18a7-4a3b-c792-5fbb94acdcce"
      },
      "execution_count": null,
      "outputs": [
        {
          "output_type": "execute_result",
          "data": {
            "text/plain": [
              "array([0.00280813, 0.        , 0.06688882, 0.01930229, 0.36720655,\n",
              "       0.02656117, 0.0475107 , 0.03872601, 0.0053932 , 0.01605454,\n",
              "       0.00257591, 0.00657837, 0.0022509 , 0.01674071, 0.00249607,\n",
              "       0.01685111, 0.01127831, 0.00849564, 0.0018877 , 0.00797532,\n",
              "       0.00276019, 0.02032798, 0.00344732, 0.0155479 , 0.00364118,\n",
              "       0.00416947, 0.23569109, 0.00512629, 0.00817364, 0.00399908,\n",
              "       0.00547315, 0.00722308, 0.00455758, 0.01228058])"
            ]
          },
          "metadata": {},
          "execution_count": 75
        }
      ]
    },
    {
      "cell_type": "code",
      "source": [
        "feature_dict = dict(zip(X.columns,  clf1.feature_importances_))\n",
        "feature_dict"
      ],
      "metadata": {
        "colab": {
          "base_uri": "https://localhost:8080/"
        },
        "id": "pasumyUGK9hF",
        "outputId": "6217f32f-1be5-467a-9f5f-245e62bd3078"
      },
      "execution_count": null,
      "outputs": [
        {
          "output_type": "execute_result",
          "data": {
            "text/plain": [
              "{'-0.05889': 0.019302287045799133,\n",
              " '-0.17755': 0.006578368659081598,\n",
              " '-0.29674': 0.02032797507795037,\n",
              " '-0.32192': 0.00797531780442443,\n",
              " '-0.34090': 0.00399908350189737,\n",
              " '-0.37708': 0.03872601407833697,\n",
              " '-0.38223': 0.01685111091288648,\n",
              " '-0.38542': 0.008495644559889014,\n",
              " '-0.44945': 0.01674071489130547,\n",
              " '-0.45300': 0.012280580708768175,\n",
              " '-0.46168': 0.005126293800669977,\n",
              " '-0.47357': 0.015547902393483758,\n",
              " '-0.51171': 0.004169466453708048,\n",
              " '-0.54487': 0.007223077538263803,\n",
              " '0': 0.0,\n",
              " '0.02306': 0.026561169893602736,\n",
              " '0.03760': 0.016054542562144454,\n",
              " '0.18641': 0.004557579678630775,\n",
              " '0.21266': 0.008173642770165749,\n",
              " '0.36946': 0.0034473191141858772,\n",
              " '0.41078': 0.23569108947756512,\n",
              " '0.42267': 0.0054731500095064655,\n",
              " '0.56811': 0.0036411803139176206,\n",
              " '0.56971': 0.0027601915920977913,\n",
              " '0.58212': 0.0018877015355718162,\n",
              " '0.59755': 0.002250897583142119,\n",
              " '0.60536': 0.0024960714959969704,\n",
              " '0.83398': 0.0475107044119604,\n",
              " '0.84356': 0.011278314564149938,\n",
              " '0.85243': 0.36720655381664674,\n",
              " '0.85243.1': 0.0025759072526656186,\n",
              " '0.99539': 0.06688881713366654,\n",
              " '1': 0.0028081251331202256,\n",
              " '1.1': 0.00539320423479851}"
            ]
          },
          "metadata": {},
          "execution_count": 76
        }
      ]
    }
  ]
}